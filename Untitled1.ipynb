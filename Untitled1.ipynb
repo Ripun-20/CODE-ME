{
  "nbformat": 4,
  "nbformat_minor": 0,
  "metadata": {
    "colab": {
      "name": "Untitled0.ipynb",
      "provenance": [],
      "collapsed_sections": [],
      "toc_visible": true,
      "authorship_tag": "ABX9TyPNh4TfsQBvD4OybNymblJk",
      "include_colab_link": true
    },
    "kernelspec": {
      "name": "python3",
      "display_name": "Python 3"
    }
  },
  "cells": [
    {
      "cell_type": "markdown",
      "metadata": {
        "id": "view-in-github",
        "colab_type": "text"
      },
      "source": [
        "<a href=\"https://colab.research.google.com/github/Ripun-20/CODE-ME/blob/master/Untitled1.ipynb\" target=\"_parent\"><img src=\"https://colab.research.google.com/assets/colab-badge.svg\" alt=\"Open In Colab\"/></a>"
      ]
    },
    {
      "cell_type": "code",
      "metadata": {
        "id": "aMYCJExIVSvg",
        "colab_type": "code",
        "colab": {
          "base_uri": "https://localhost:8080/",
          "height": 34
        },
        "outputId": "f6f4bf35-9ccd-4177-94cd-6aea2e21554e"
      },
      "source": [
        "  counts = dict()\n",
        "  names = ['a','b','a']\n",
        "\n",
        "  for name in names:\n",
        "    counts[name] = counts.get(name,0)+1\n",
        "print(counts)\n",
        "\n",
        "\n",
        "\n"
      ],
      "execution_count": 2,
      "outputs": [
        {
          "output_type": "stream",
          "text": [
            "{'a': 2, 'b': 1}\n"
          ],
          "name": "stdout"
        }
      ]
    },
    {
      "cell_type": "code",
      "metadata": {
        "id": "AL9tjJk1ZBhu",
        "colab_type": "code",
        "colab": {
          "base_uri": "https://localhost:8080/",
          "height": 51
        },
        "outputId": "ade371dc-145b-42b0-be1f-60a447b83466"
      },
      "source": [
        "jjj ={'a':10,'b':20}\n",
        "for x,y in jjj.items():\n",
        "  print(x,y)"
      ],
      "execution_count": 3,
      "outputs": [
        {
          "output_type": "stream",
          "text": [
            "a 10\n",
            "b 20\n"
          ],
          "name": "stdout"
        }
      ]
    },
    {
      "cell_type": "code",
      "metadata": {
        "id": "uKbpy8ANe5KP",
        "colab_type": "code",
        "colab": {
          "base_uri": "https://localhost:8080/",
          "height": 54
        },
        "outputId": "86c9db2a-4c75-49b8-d2fe-661fcefa5123"
      },
      "source": [
        "fhand = open ('romeo.txt')\n",
        "counts = {}\n",
        "for line in fhand:\n",
        "  words = line.split()\n",
        "  for word in words:\n",
        "    counts[word] = counts.get(word,0)+1\n",
        "\n",
        "\n",
        "lst = []\n",
        "\n",
        "for k,v in counts.items():\n",
        "  lst.append((v,k))\n",
        "print(sorted(lst,reverse=True)[:10])\n"
      ],
      "execution_count": 8,
      "outputs": [
        {
          "output_type": "stream",
          "text": [
            "[(3, 'the'), (3, 'is'), (3, 'and'), (2, 'sun'), (1, 'yonder'), (1, 'with'), (1, 'window'), (1, 'what'), (1, 'through'), (1, 'soft')]\n"
          ],
          "name": "stdout"
        }
      ]
    },
    {
      "cell_type": "code",
      "metadata": {
        "id": "ByMV8ejWhsld",
        "colab_type": "code",
        "colab": {}
      },
      "source": [
        "from google.colab import drive\n",
        "drive.mount('/content/drive')"
      ],
      "execution_count": 0,
      "outputs": []
    }
  ]
}